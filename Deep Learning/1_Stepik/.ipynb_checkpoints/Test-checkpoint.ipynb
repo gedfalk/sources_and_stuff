{
 "cells": [
  {
   "cell_type": "code",
   "execution_count": null,
   "id": "2c4c396b",
   "metadata": {},
   "outputs": [],
   "source": [
    "c = 3\n",
    "print(c)"
   ]
  },
  {
   "cell_type": "code",
   "execution_count": null,
   "id": "9a6e275f",
   "metadata": {},
   "outputs": [],
   "source": []
  }
 ],
 "metadata": {
  "kernelspec": {
   "display_name": "Python 3",
   "language": "python",
   "name": "python3"
  }
 },
 "nbformat": 4,
 "nbformat_minor": 5
}
